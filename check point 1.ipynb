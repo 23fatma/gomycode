{
  "nbformat": 4,
  "nbformat_minor": 0,
  "metadata": {
    "colab": {
      "name": "Untitled11.ipynb",
      "provenance": []
    },
    "kernelspec": {
      "name": "python3",
      "display_name": "Python 3"
    },
    "language_info": {
      "name": "python"
    }
  },
  "cells": [
    {
      "cell_type": "code",
      "metadata": {
        "id": "HrYF_hzGOt2a",
        "colab": {
          "base_uri": "https://localhost:8080/"
        },
        "outputId": "a6b5bbd4-2021-4ee1-d002-b1fbd180f920"
      },
      "source": [
        "print(\"Hello Fatma !! \")"
      ],
      "execution_count": null,
      "outputs": [
        {
          "output_type": "stream",
          "name": "stdout",
          "text": [
            "Hello Fatma !! \n"
          ]
        }
      ]
    },
    {
      "cell_type": "code",
      "metadata": {
        "id": "5exbntQlOynb",
        "colab": {
          "base_uri": "https://localhost:8080/"
        },
        "outputId": "812a4851-478a-45d4-df9b-783442ec6639"
      },
      "source": [
        "x=int(input(\"donner x\"))\n",
        "n=1\n",
        "for i in range(1,x+1):\n",
        "  n=n*i\n",
        "print(n)\n"
      ],
      "execution_count": null,
      "outputs": [
        {
          "output_type": "stream",
          "name": "stdout",
          "text": [
            "donner x5\n",
            "120\n"
          ]
        }
      ]
    },
    {
      "cell_type": "code",
      "metadata": {
        "colab": {
          "base_uri": "https://localhost:8080/"
        },
        "id": "afMYkXqXjyh7",
        "outputId": "a5eb18bf-25df-422d-f98c-c6f3f5555871"
      },
      "source": [
        "n=int(input(\"donner n\"))\n",
        "nn=n*11\n",
        "nnn=n*111\n",
        "x=n+nn+nnn\n",
        "print(x)\n"
      ],
      "execution_count": null,
      "outputs": [
        {
          "output_type": "stream",
          "name": "stdout",
          "text": [
            "donner n8\n",
            "984\n"
          ]
        }
      ]
    },
    {
      "cell_type": "code",
      "metadata": {
        "colab": {
          "base_uri": "https://localhost:8080/"
        },
        "id": "OHGgCr8PkAoR",
        "outputId": "679e5552-4981-47f3-8408-7e33bea5899e"
      },
      "source": [
        "x=int(input(\"donner x\"))\n",
        "if x%2 ==0:\n",
        "   print(\"x est pair\")\n",
        "else :\n",
        "    print(\"x est impair\")"
      ],
      "execution_count": null,
      "outputs": [
        {
          "output_type": "stream",
          "name": "stdout",
          "text": [
            "donner x4\n",
            "x est pair\n"
          ]
        }
      ]
    },
    {
      "cell_type": "code",
      "metadata": {
        "colab": {
          "base_uri": "https://localhost:8080/"
        },
        "id": "TI1JVvJpkFl5",
        "outputId": "f0c286f1-bf2c-41f8-93b4-acde4ffa9e04"
      },
      "source": [
        "n=int(input(\"donner n\"))\n",
        "for n in range(2000,3200):\n",
        "    if n%7==0 and n%5!=0:\n",
        "        print(n)"
      ],
      "execution_count": null,
      "outputs": [
        {
          "output_type": "stream",
          "name": "stdout",
          "text": [
            "donner n2000\n",
            "2002\n",
            "2009\n",
            "2016\n",
            "2023\n",
            "2037\n",
            "2044\n",
            "2051\n",
            "2058\n",
            "2072\n",
            "2079\n",
            "2086\n",
            "2093\n",
            "2107\n",
            "2114\n",
            "2121\n",
            "2128\n",
            "2142\n",
            "2149\n",
            "2156\n",
            "2163\n",
            "2177\n",
            "2184\n",
            "2191\n",
            "2198\n",
            "2212\n",
            "2219\n",
            "2226\n",
            "2233\n",
            "2247\n",
            "2254\n",
            "2261\n",
            "2268\n",
            "2282\n",
            "2289\n",
            "2296\n",
            "2303\n",
            "2317\n",
            "2324\n",
            "2331\n",
            "2338\n",
            "2352\n",
            "2359\n",
            "2366\n",
            "2373\n",
            "2387\n",
            "2394\n",
            "2401\n",
            "2408\n",
            "2422\n",
            "2429\n",
            "2436\n",
            "2443\n",
            "2457\n",
            "2464\n",
            "2471\n",
            "2478\n",
            "2492\n",
            "2499\n",
            "2506\n",
            "2513\n",
            "2527\n",
            "2534\n",
            "2541\n",
            "2548\n",
            "2562\n",
            "2569\n",
            "2576\n",
            "2583\n",
            "2597\n",
            "2604\n",
            "2611\n",
            "2618\n",
            "2632\n",
            "2639\n",
            "2646\n",
            "2653\n",
            "2667\n",
            "2674\n",
            "2681\n",
            "2688\n",
            "2702\n",
            "2709\n",
            "2716\n",
            "2723\n",
            "2737\n",
            "2744\n",
            "2751\n",
            "2758\n",
            "2772\n",
            "2779\n",
            "2786\n",
            "2793\n",
            "2807\n",
            "2814\n",
            "2821\n",
            "2828\n",
            "2842\n",
            "2849\n",
            "2856\n",
            "2863\n",
            "2877\n",
            "2884\n",
            "2891\n",
            "2898\n",
            "2912\n",
            "2919\n",
            "2926\n",
            "2933\n",
            "2947\n",
            "2954\n",
            "2961\n",
            "2968\n",
            "2982\n",
            "2989\n",
            "2996\n",
            "3003\n",
            "3017\n",
            "3024\n",
            "3031\n",
            "3038\n",
            "3052\n",
            "3059\n",
            "3066\n",
            "3073\n",
            "3087\n",
            "3094\n",
            "3101\n",
            "3108\n",
            "3122\n",
            "3129\n",
            "3136\n",
            "3143\n",
            "3157\n",
            "3164\n",
            "3171\n",
            "3178\n",
            "3192\n",
            "3199\n"
          ]
        }
      ]
    },
    {
      "cell_type": "code",
      "metadata": {
        "colab": {
          "base_uri": "https://localhost:8080/"
        },
        "id": "hJUNEnF2kJQP",
        "outputId": "0d983717-4ab0-4d6f-8521-c3684e1651a0"
      },
      "source": [
        "a=input(\"Donner une chaine : \")\n",
        "ch=\"\"\n",
        "for i in range(len(a)):\n",
        "  if (i%2==0):\n",
        "    ch = ch + a[i] \n",
        "print(ch)\n",
        "  \n"
      ],
      "execution_count": null,
      "outputs": [
        {
          "output_type": "stream",
          "name": "stdout",
          "text": [
            "Donner une chaine : Fatma Youssef\n",
            "FtaYusf\n"
          ]
        }
      ]
    },
    {
      "cell_type": "code",
      "metadata": {
        "id": "1vrbhqOYqLdT",
        "colab": {
          "base_uri": "https://localhost:8080/"
        },
        "outputId": "4a0ce1d6-dd28-4791-c10b-e11aa722a750"
      },
      "source": [
        "a=int(input(\"donner a\"))\n",
        "if a>=500:\n",
        "  x=a-(a*0.5)\n",
        "elif a>=200 and a<500:\n",
        "  x=a-(a*0.3)\n",
        "elif a<200:\n",
        "  x=a-(a*0.1)\n",
        "print(x)  "
      ],
      "execution_count": 23,
      "outputs": [
        {
          "output_type": "stream",
          "name": "stdout",
          "text": [
            "donner a230\n",
            "161.0\n"
          ]
        }
      ]
    },
    {
      "cell_type": "code",
      "metadata": {
        "id": "kAE1-EbGmVxl"
      },
      "source": [
        ""
      ],
      "execution_count": null,
      "outputs": []
    }
  ]
}